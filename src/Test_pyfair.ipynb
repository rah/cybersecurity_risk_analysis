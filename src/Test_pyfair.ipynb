{
 "cells": [
  {
   "cell_type": "code",
   "execution_count": 1,
   "metadata": {},
   "outputs": [],
   "source": [
    "import pyfair"
   ]
  },
  {
   "cell_type": "code",
   "execution_count": 2,
   "metadata": {},
   "outputs": [],
   "source": [
    "model1 = pyfair.FairModel(name=\"Regular Model 1\", n_simulations=10_000)\n",
    "model1.input_data('Loss Event Frequency', low=20, mode=100, high=900)\n",
    "model1.input_data('Primary Loss', low=3_000_000, mode=3_500_000, high=5_000_000)\n",
    "model1.input_data('Secondary Loss', constant=3_500_000)\n",
    "model1.calculate_all()\n",
    "\n",
    "# Create another model using LEF (Normal) and LM (PERT)\n",
    "model2 = pyfair.FairModel(name=\"Regular Model 2\", n_simulations=10_000)\n",
    "model2.input_data('Loss Event Frequency', mean=.3, stdev=.1)\n",
    "model2.input_data('Loss Magnitude', low=2_000_000_000, mode=3_000_000_000, high=5_000_000_000)\n",
    "model2.calculate_all()\n",
    "\n",
    "# Create metamodel by combining 1 and 2\n",
    "mm = pyfair.FairMetaModel(name='My Meta Model!', models=[model1, model2])\n",
    "mm.calculate_all()\n",
    "\n",
    "# Create report comparing 2 vs metamodel.\n",
    "fsr = pyfair.FairSimpleReport([model1, mm])"
   ]
  },
  {
   "cell_type": "code",
   "execution_count": 4,
   "metadata": {},
   "outputs": [
    {
     "data": {
      "text/plain": [
       "<pyfair.report.simple_report.FairSimpleReport at 0x7f2b7d6fce48>"
      ]
     },
     "execution_count": 4,
     "metadata": {},
     "output_type": "execute_result"
    }
   ],
   "source": [
    "fsr"
   ]
  }
 ],
 "metadata": {
  "kernelspec": {
   "display_name": "Python 3",
   "language": "python",
   "name": "python3"
  },
  "language_info": {
   "codemirror_mode": {
    "name": "ipython",
    "version": 3
   },
   "file_extension": ".py",
   "mimetype": "text/x-python",
   "name": "python",
   "nbconvert_exporter": "python",
   "pygments_lexer": "ipython3",
   "version": "3.6.12"
  }
 },
 "nbformat": 4,
 "nbformat_minor": 4
}
